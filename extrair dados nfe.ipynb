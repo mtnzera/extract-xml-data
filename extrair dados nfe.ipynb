{
 "cells": [
  {
   "cell_type": "code",
   "execution_count": null,
   "id": "d8d33fc7",
   "metadata": {},
   "outputs": [],
   "source": []
  },
  {
   "cell_type": "code",
   "execution_count": null,
   "id": "1b24f0af",
   "metadata": {},
   "outputs": [],
   "source": [
    "\n"
   ]
  },
  {
   "cell_type": "code",
   "execution_count": null,
   "id": "46e174e2",
   "metadata": {},
   "outputs": [],
   "source": []
  },
  {
   "cell_type": "code",
   "execution_count": null,
   "id": "3f1d3d51",
   "metadata": {
    "scrolled": false
   },
   "outputs": [],
   "source": []
  },
  {
   "cell_type": "code",
   "execution_count": 60,
   "id": "2d8e2b0a",
   "metadata": {},
   "outputs": [],
   "source": [
    "from xml.dom import minidom\n",
    "import glob\n",
    "import pandas as pd\n",
    "\n",
    "notas = glob.glob (r\"D:\\Milton\\arquivo\\XML THIAGO\\*.xml\")\n",
    "dados={'Produto':[],'Ean':[],'Ncm':[],'CEST':[],'CFOP':[], 'uCom':[], 'vProd':[] , 'CSOSN':[], 'CST':[], 'Aliquota':[], 'Tributacao':[]}\n",
    "#Dicionário de dados recolhidos das notas juntamente com caminho da pasta das notas em formato XML\n"
   ]
  },
  {
   "cell_type": "code",
   "execution_count": 61,
   "id": "b91c5e03",
   "metadata": {
    "scrolled": true
   },
   "outputs": [],
   "source": [
    "for n in notas:\n",
    "    xml = open(n,encoding=\"utf-8\")\n",
    "    nfe=minidom.parse(xml)#PERCORRER AS NOTAS DA PASTA DO GLOB    \n",
    "    itens = nfe.getElementsByTagName('det')    \n",
    "    \n",
    "    for i in itens:\n",
    "        \n",
    "        numitem=int(i.attributes['nItem'].value)-1\n",
    "        \n",
    "        ean = i.getElementsByTagName('cEAN')#COD DE BARRAS\n",
    "        dados['Ean'].append(ean[0].firstChild.nodeValue)\n",
    "        \n",
    "        prod = i.getElementsByTagName('xProd')#PRODUTO\n",
    "        dados['Produto'].append(prod[0].firstChild.nodeValue)\n",
    "        \n",
    "        ncm = i.getElementsByTagName ('NCM')#NCM\n",
    "        dados['Ncm'].append(ncm[0].firstChild.nodeValue)\n",
    "        \n",
    "        \n",
    "        cest = i.getElementsByTagName('CEST')\n",
    "        if cest:\n",
    "            dados['CEST'].append(cest[0].firstChild.nodeValue)#VERIFICAR SE EXISTE A TAG DE CEST\n",
    "        else:    \n",
    "            dados['CEST'].append('0000000')#PREENCHER COM ALGO CASO NAO EXISTA\n",
    "        \n",
    "    \n",
    "        und = i.getElementsByTagName('uCom')#UNIDADE\n",
    "        dados['uCom'].append(und[0].firstChild.nodeValue)\n",
    "        \n",
    "        \n",
    "        vProd = i.getElementsByTagName('vProd')     \n",
    "        if vProd:\n",
    "            dados['vProd'].append(vProd[0].firstChild.nodeValue)#VERIFICAR SE EXISTE A TAG DE VALOR DO PRODUTO\n",
    "        else:\n",
    "            dados['vProd'].append('0')#PREENCHER COM ALGO CASO NAO EXISTA\n",
    "                 \n",
    "            \n",
    "        cfop = i.getElementsByTagName('CFOP')      \n",
    "        if cfop[0].firstChild.nodeValue in ('5403','5405','6403','6405'): #INSERINDO DADOS DE TRIBUTAÇÃO DE ACORDO COM CFOP\n",
    "            dados['CFOP'].append('5405')#INSERE CFOP\n",
    "            dados['CSOSN'].append('500')#INSERE CSOSN\n",
    "            dados['CST'].append('060')#INSERE CST\n",
    "            dados['Aliquota'].append('0')#INSERE ALIQUOTA\n",
    "            dados['Tributacao'].append('1')#INSERE TRIBUTACAO (0 = ISENTO, 1 = SUB TRIBUTARIA, 2 = TRIBUTADO)\n",
    "\n",
    "        elif cfop[0].firstChild.nodeValue in ('5102','6102','6101','5101'):\n",
    "            dados['CFOP'].append('5102')#INSERE CFOP\n",
    "            dados['CSOSN'].append('102')#INSERE CSOSN\n",
    "            dados['CST'].append('000')#INSERE CST\n",
    "            dados['Aliquota'].append('18')#INSERE ALIQUOTA\n",
    "            dados['Tributacao'].append('2')#INSERE TRIBUTACAO (0 = ISENTO, 1 = SUB TRIBUTARIA, 2 = TRIBUTADO)\n",
    "            \n",
    "        else:\n",
    "            dados['CFOP'].append('5405')#INSERE CFOP\n",
    "            dados['CSOSN'].append('500')#INSERE CSOSN\n",
    "            dados['CST'].append('060')#INSERE CST\n",
    "            dados['Aliquota'].append('0')#INSERE ALIQUOTA\n",
    "            dados['Tributacao'].append('1')#INSERE TRIBUTACAO (0 = ISENTO, 1 = SUB TRIBUTARIA, 2 = TRIBUTADO)\n",
    "            \n",
    "        \n",
    "  "
   ]
  },
  {
   "cell_type": "code",
   "execution_count": 62,
   "id": "5cc6ebf8",
   "metadata": {},
   "outputs": [],
   "source": [
    "df = pd.DataFrame(dados)#Inserindo os dados das notas no dataframe\n",
    "df = df.sort_values('Produto', ascending=True)#Ordenando dataframe\n",
    "df = df.drop_duplicates(subset='Produto', keep='first')#Removendo produtos com descricao duplicadas\n",
    "df = df.drop_duplicates(subset='Ean', keep='first')#Removendo produtos com código de barras duplicadas\n",
    "df = df.reset_index(drop=True)#Resetando o indice e dropando o antigo\n"
   ]
  },
  {
   "cell_type": "code",
   "execution_count": 64,
   "id": "baa74bab",
   "metadata": {},
   "outputs": [],
   "source": [
    "df.to_csv(r\"D:\\Milton\\arquivo\\XML THIAGO\\thiago teste.csv\",sep=';')#Salvando o dataframe no arquivo csv"
   ]
  },
  {
   "cell_type": "code",
   "execution_count": null,
   "id": "b57e08be",
   "metadata": {},
   "outputs": [],
   "source": []
  },
  {
   "cell_type": "code",
   "execution_count": null,
   "id": "6cff111d",
   "metadata": {},
   "outputs": [],
   "source": []
  }
 ],
 "metadata": {
  "kernelspec": {
   "display_name": "Python 3 (ipykernel)",
   "language": "python",
   "name": "python3"
  },
  "language_info": {
   "codemirror_mode": {
    "name": "ipython",
    "version": 3
   },
   "file_extension": ".py",
   "mimetype": "text/x-python",
   "name": "python",
   "nbconvert_exporter": "python",
   "pygments_lexer": "ipython3",
   "version": "3.10.8"
  }
 },
 "nbformat": 4,
 "nbformat_minor": 5
}
